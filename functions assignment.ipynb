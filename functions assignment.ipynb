{
 "cells": [
  {
   "cell_type": "code",
   "execution_count": null,
   "metadata": {},
   "outputs": [],
   "source": [
    "##program to rename a single file in a directory\n",
    "\n",
    "import os\n",
    "os.rename(r'C:\\Users\\vr222\\Desktop\\python\\python programs.txt',r'C:\\Users\\vr222\\Desktop\\python\\python67894.txt')"
   ]
  },
  {
   "cell_type": "code",
   "execution_count": 6,
   "metadata": {},
   "outputs": [],
   "source": [
    "##program to rename a multiple files in a directory\n",
    "\n",
    "import os\n",
    "# Function to rename multiple files\n",
    "def main():\n",
    "    i = 0\n",
    "    path=\"C:/Users/vr222/Pictures/Saved Pictures/\"\n",
    "    for filename in os.listdir(path):\n",
    "        my_dest =\"soul\" + str(i) + \".txt\"\n",
    "        my_source =path + filename\n",
    "        my_dest =path + my_dest\n",
    "      # rename() function will\n",
    "      # rename all the files\n",
    "        os.rename(my_source, my_dest)\n",
    "        i += 1\n",
    "\n",
    "        \n",
    "if __name__ == '__main__':\n",
    "    main()"
   ]
  },
  {
   "cell_type": "code",
   "execution_count": null,
   "metadata": {},
   "outputs": [],
   "source": [
    "\n",
    "import os \n",
    "def main():\n",
    "    i=0\n",
    "    path = \"C:\\Users\\vr222\\Pictures\\Saved Pictures\"\n",
    "    for filename in os.listdir(path): \n",
    "        dst =\"image\" + str(i) + \".txt\"\n",
    "        src =path+ filename \n",
    "        dst =path+ dst  \n",
    "        os.rename(src, dst) \n",
    "        i += 1\n",
    "\n",
    "        \n",
    "if __name__ == '__main__': \n",
    "    main()  \n",
    " \n"
   ]
  }
 ],
 "metadata": {
  "kernelspec": {
   "display_name": "Python 3",
   "language": "python",
   "name": "python3"
  },
  "language_info": {
   "codemirror_mode": {
    "name": "ipython",
    "version": 3
   },
   "file_extension": ".py",
   "mimetype": "text/x-python",
   "name": "python",
   "nbconvert_exporter": "python",
   "pygments_lexer": "ipython3",
   "version": "3.7.4"
  }
 },
 "nbformat": 4,
 "nbformat_minor": 2
}
