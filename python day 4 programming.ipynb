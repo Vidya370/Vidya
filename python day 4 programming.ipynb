{
 "cells": [
  {
   "cell_type": "markdown",
   "metadata": {},
   "source": [
    "Programming questions:"
   ]
  },
  {
   "cell_type": "code",
   "execution_count": 1,
   "metadata": {},
   "outputs": [
    {
     "name": "stdout",
     "output_type": "stream",
     "text": [
      "11 is a prime number\n"
     ]
    }
   ],
   "source": [
    "##1. Prime numbers.\n",
    "\n",
    "num = 11\n",
    "  \n",
    "if num > 1: \n",
    "   for i in range(2, num//2): \n",
    "       if (num % i) == 0: \n",
    "           print(num, \"is not a prime number\") \n",
    "           break\n",
    "   else: \n",
    "       print(num, \"is a prime number\") \n",
    "else: \n",
    "   print(num, \"is not a prime number\") "
   ]
  },
  {
   "cell_type": "code",
   "execution_count": 2,
   "metadata": {},
   "outputs": [
    {
     "name": "stdout",
     "output_type": "stream",
     "text": [
      "3.0\n"
     ]
    }
   ],
   "source": [
    "##2. find the missing numbers in the order ?\n",
    "\n",
    "def getMissingNo(A): \n",
    "    n = len(A) \n",
    "    total = (n + 1)*(n + 2)/2\n",
    "    sum_of_A = sum(A) \n",
    "    return total - sum_of_A \n",
    "A = [1, 2, 4, 5, 6] \n",
    "miss = getMissingNo(A) \n",
    "print(miss)"
   ]
  },
  {
   "cell_type": "code",
   "execution_count": 3,
   "metadata": {},
   "outputs": [
    {
     "name": "stdout",
     "output_type": "stream",
     "text": [
      "[20, 30, -20, 60]\n"
     ]
    }
   ],
   "source": [
    "##3. find the duplicat elements.\n",
    "\n",
    "def Repeat(x): \n",
    "    _size = len(x) \n",
    "    repeated = [] \n",
    "    for i in range(_size): \n",
    "        k = i + 1\n",
    "        for j in range(k, _size): \n",
    "            if x[i] == x[j] and x[i] not in repeated: \n",
    "                repeated.append(x[i]) \n",
    "    return repeated \n",
    "list1 = [10, 20, 30, 20, 20, 30, 40,  \n",
    "         50, -20, 60, 60, -20, -20] \n",
    "print (Repeat(list1)) "
   ]
  },
  {
   "cell_type": "code",
   "execution_count": 6,
   "metadata": {},
   "outputs": [
    {
     "name": "stdout",
     "output_type": "stream",
     "text": [
      "Even lists: [2, 62, 84]\n",
      "Odd lists: [5, 13, 17, 51, 73, 95]\n"
     ]
    }
   ],
   "source": [
    "##4. seperate even and odd ( 0 and 1 )numbers in a list.\n",
    "\n",
    "def Split(mix): \n",
    "    ev_li = [] \n",
    "    od_li = [] \n",
    "    for i in mix: \n",
    "        if (i % 2 == 0): \n",
    "            ev_li.append(i) \n",
    "        else: \n",
    "            od_li.append(i) \n",
    "    print(\"Even lists:\", ev_li) \n",
    "    print(\"Odd lists:\", od_li) \n",
    "mix = [2, 5, 13, 17, 51, 62, 73, 84, 95] \n",
    "Split(mix) "
   ]
  },
  {
   "cell_type": "code",
   "execution_count": 9,
   "metadata": {},
   "outputs": [
    {
     "name": "stdout",
     "output_type": "stream",
     "text": [
      "Yes\n"
     ]
    }
   ],
   "source": [
    "##6. check palidrome and check reverse using dequeue method.\n",
    "\n",
    "def reverse(s): \n",
    "    return s[::-1] \n",
    "  \n",
    "def isPalindrome(s):   \n",
    "    rev = reverse(s) \n",
    "    if (s == rev): \n",
    "        return True\n",
    "    return False\n",
    "  \n",
    "  \n",
    "# Driver code \n",
    "s = \"malayalam\"\n",
    "ans = isPalindrome(s) \n",
    "  \n",
    "if ans == 1: \n",
    "    print(\"Yes\") \n",
    "else: \n",
    "    print(\"No\") "
   ]
  },
  {
   "cell_type": "code",
   "execution_count": 1,
   "metadata": {},
   "outputs": [
    {
     "name": "stdout",
     "output_type": "stream",
     "text": [
      "21\n"
     ]
    }
   ],
   "source": [
    "##7. fibanacci numbers.\n",
    "\n",
    "def Fibonacci(n): \n",
    "    if n<0: \n",
    "        print(\"Incorrect input\") \n",
    "    # First Fibonacci number is 0 \n",
    "    elif n==1: \n",
    "        return 0\n",
    "    # Second Fibonacci number is 1 \n",
    "    elif n==2: \n",
    "        return 1\n",
    "    else: \n",
    "        return Fibonacci(n-1)+Fibonacci(n-2) \n",
    "print(Fibonacci(9)) \n"
   ]
  },
  {
   "cell_type": "code",
   "execution_count": 2,
   "metadata": {},
   "outputs": [
    {
     "name": "stdout",
     "output_type": "stream",
     "text": [
      "Your Computer Name is:IN5CG7192D61\n",
      "Your Computer IP Address is:10.234.197.4\n"
     ]
    }
   ],
   "source": [
    "##8. check ip address.\n",
    "\n",
    "import socket    \n",
    "hostname = socket.gethostname()    \n",
    "IPAddr = socket.gethostbyname(hostname)    \n",
    "print(\"Your Computer Name is:\" + hostname)    \n",
    "print(\"Your Computer IP Address is:\" + IPAddr)    "
   ]
  },
  {
   "cell_type": "code",
   "execution_count": null,
   "metadata": {},
   "outputs": [],
   "source": [
    "##9. how many itertools used ? \n",
    "----map, starmap, tee, zip_longest, filter, drop_while, chain,update, groupby,"
   ]
  },
  {
   "cell_type": "code",
   "execution_count": 6,
   "metadata": {},
   "outputs": [
    {
     "name": "stdout",
     "output_type": "stream",
     "text": [
      "monday\n",
      "Incorrect day\n"
     ]
    }
   ],
   "source": [
    "##10. create switch statement;\n",
    "\n",
    "def monday():\n",
    "    return \"monday\"\n",
    "def tuesday():\n",
    "    return \"tuesday\"\n",
    "def wednesday():\n",
    "    return \"wednesday\"\n",
    "def thursday():\n",
    "    return \"thursday\"\n",
    "def friday():\n",
    "    return \"friday\"\n",
    "def saturday():\n",
    "    return \"saturday\"\n",
    "def sunday():\n",
    "    return \"sunday\"\n",
    "def default():\n",
    "    return \"Incorrect day\"\n",
    "\n",
    "switcher = {\n",
    "    1: monday,\n",
    "    2: tuesday,\n",
    "    3: wednesday,\n",
    "    4: thursday,\n",
    "    5: friday,\n",
    "    6: saturday,\n",
    "    7: sunday\n",
    "    }\n",
    "\n",
    "def switch(dayOfWeek):\n",
    "    return switcher.get(dayOfWeek, default)()\n",
    "\n",
    "print(switch(1))\n",
    "print(switch(0))"
   ]
  },
  {
   "cell_type": "code",
   "execution_count": 7,
   "metadata": {},
   "outputs": [
    {
     "name": "stdout",
     "output_type": "stream",
     "text": [
      "[454, 23]\n"
     ]
    }
   ],
   "source": [
    "##12. find the highest element in the list.\n",
    "\n",
    "# Initialising List \n",
    "a = [[10, 13, 454, 66, 44], [10, 8, 7, 23]] \n",
    "  \n",
    "# find max in list \n",
    "b = [max(p) for p in a] \n",
    "  \n",
    "# Printing max \n",
    "print(b) \n"
   ]
  },
  {
   "cell_type": "code",
   "execution_count": null,
   "metadata": {},
   "outputs": [],
   "source": [
    "11. what is None type object ?\n",
    "----NoneType is the type for the None object, which is an object that indicates no value. \n",
    "----None is the return value of functions that \"don't return anything\".You cannot add None to strings or other objects."
   ]
  },
  {
   "cell_type": "code",
   "execution_count": 8,
   "metadata": {},
   "outputs": [
    {
     "name": "stdout",
     "output_type": "stream",
     "text": [
      "Second largest element is: 45\n"
     ]
    }
   ],
   "source": [
    "##14. find the second highest element inthe list.\n",
    "\n",
    "list1 = [10, 20, 4, 45, 99] \n",
    "  \n",
    "# sorting the list \n",
    "list1.sort() \n",
    "  \n",
    "# printing the second last element \n",
    "print(\"Second largest element is:\", list1[-2]) "
   ]
  },
  {
   "cell_type": "code",
   "execution_count": null,
   "metadata": {},
   "outputs": [],
   "source": [
    "15. have u used Collections ? \n",
    "----chainmap, Counter, defaultdict, oredereddict,dequeue,namedtuple,"
   ]
  },
  {
   "cell_type": "code",
   "execution_count": null,
   "metadata": {},
   "outputs": [],
   "source": [
    "16. have u used functools ?\n",
    "----singledispatch"
   ]
  },
  {
   "cell_type": "code",
   "execution_count": null,
   "metadata": {},
   "outputs": [],
   "source": [
    "17. magic methods or operator overloading ? \n",
    "----context_manager and @singleton"
   ]
  },
  {
   "cell_type": "code",
   "execution_count": null,
   "metadata": {},
   "outputs": [],
   "source": [
    "18. Difference between normal function and generators ?\n",
    "---Generators in Python are created just like how you create normal functions using the ‘def’ keyword. But, Generator functions make use of the yield keyword instead of return. This is done to notify the interpreter that this is an iterator. Not just this, Generator functions are run when the next() function is called and not by their name as in case of normal functions. Consider the following example to understand it better:\n",
    "EXAMPLE:\n",
    "\n",
    "def func(a):\n",
    "    yield a\n",
    "a=[1,2,3]\n",
    "b=func(a)\n",
    "next(b)\n",
    "\n",
    "OUTPUT: [1, 2, 3] \n",
    "\n",
    "Normal function----As you can see, in the above output, func() is making use of the yield keyword and the next function for its execution. But, for normal function you will need the following piece of code:\n",
    "EXAMPLE:\n",
    "def func(a):\n",
    "    return a\n",
    "a=[1,2,3]\n",
    "func(a)\n",
    "\n",
    "OUTPUT: [1, 2, 3] "
   ]
  },
  {
   "cell_type": "code",
   "execution_count": null,
   "metadata": {},
   "outputs": [],
   "source": []
  }
 ],
 "metadata": {
  "kernelspec": {
   "display_name": "Python 3",
   "language": "python",
   "name": "python3"
  },
  "language_info": {
   "codemirror_mode": {
    "name": "ipython",
    "version": 3
   },
   "file_extension": ".py",
   "mimetype": "text/x-python",
   "name": "python",
   "nbconvert_exporter": "python",
   "pygments_lexer": "ipython3",
   "version": "3.7.4"
  }
 },
 "nbformat": 4,
 "nbformat_minor": 2
}
