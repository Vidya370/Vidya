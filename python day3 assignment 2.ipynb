{
 "cells": [
  {
   "cell_type": "code",
   "execution_count": null,
   "metadata": {},
   "outputs": [],
   "source": [
    "\n",
    "1. How to write re-usable code ?\n",
    "\t- Be a better programmer: read a lot of best code and read books not google.\n",
    "\t- fewer classes. more functions:\n",
    "\t- Don't solve: search for libraries for problem.\n",
    "\t- fewer frameworks, more libraries:\n",
    "\t- test, test:\n",
    "\t- document, document:\n",
    "\t- use TDD"
   ]
  },
  {
   "cell_type": "code",
   "execution_count": null,
   "metadata": {},
   "outputs": [],
   "source": [
    "\n",
    "1. How to write re-usable code ?\n",
    "\t- Be a better programmer: read a lot of best code and read books not google.\n",
    "\t- fewer classes. more functions:\n",
    "\t- Don't solve: search for libraries for problem.\n",
    "\t- fewer frameworks, more libraries:\n",
    "\t- test, test:\n",
    "\t- document, document:\n",
    "\t- use TDD"
   ]
  },
  {
   "cell_type": "code",
   "execution_count": null,
   "metadata": {},
   "outputs": [],
   "source": [
    "2. what is python ? How different from the other language ?\n",
    "\t- Dynamically typed and suited for OOPS, function are first class object, it shuits web app, big data, ML and DL, and a lots od libraries available.\n",
    "\t- Easy to implement Multi-processing when compare to Powershell ( Runspace and work flow ). PS not working if not light weight process.\n",
    "\t- Exception: In HPSA, pass buil-in function to pass the error.\n",
    "\t- System admin: In HP Unix, huge file and vim not working to manipulate files. \n",
    "\t- Data parsing from pdf files.\n",
    "\t- Networking: Install OS in the Remote server. Challeges are sleep hard code. Solve using threading module.\n",
    "\t- Data Analysis using pandas.\n",
    "\t- Parallel processing using Dask.\n",
    "\t- Maintain history while running sql queries.\n",
    "\t- Networking: telnet command not working in the HPSA tool. so,used simple socket to test telnet port's active or not.\n",
    "\t- Decorators: with out changing source code to validate the IMEI number.\n",
    "\t- Parsing data from log files: with out using regex. using pyparsing modules.\n",
    "\t- Web parsing: using pandas read_html and beautiful soup.\n",
    "\t- Best py language for NLP or classification of words;\n",
    "\t- computer vision"
   ]
  },
  {
   "cell_type": "code",
   "execution_count": null,
   "metadata": {},
   "outputs": [],
   "source": [
    "3. Monkey patching?\n",
    "\t- is changing the behaviour of a function or object after it has already been defined."
   ]
  },
  {
   "cell_type": "code",
   "execution_count": null,
   "metadata": {},
   "outputs": [],
   "source": [
    "4. Difference between *args and **kwargs ?\n",
    "\t- *args -> use when we are not sure how many actual arguments are passing.\n",
    "\t\t\t- passing whole stored lists or tuple.\n",
    "\t\t\t- Its convert actual paramter any type into tuple type in the formal paramter.\n",
    "\t- **kwargs -> we don't know, how many keyword are passing to function or passing dictionry to function. "
   ]
  },
  {
   "cell_type": "code",
   "execution_count": null,
   "metadata": {},
   "outputs": [],
   "source": [
    "5. what is hard in python ?\n",
    "\t- DEbugging parallel process using pdb."
   ]
  },
  {
   "cell_type": "code",
   "execution_count": null,
   "metadata": {},
   "outputs": [],
   "source": [
    "6. Difference between tuple and lists and namedtuple ?\n",
    "\t- Tuple - immutable and usage to store the records, ()\n",
    "\t- Lists - Mutable and supports append, remove, []"
   ]
  },
  {
   "cell_type": "code",
   "execution_count": null,
   "metadata": {},
   "outputs": [],
   "source": [
    "7. Difference between local and global variables ?\n",
    "\t- Local: varibles inside the function, LIFO and once came out from the function ref count removed from an object But not object deletes, its a definition, Uses stack memory in C.\n",
    "\t- Global: it's declaration, access through the file, heap memory, global a; a = 0, uses in the config file and shared across the modules."
   ]
  },
  {
   "cell_type": "code",
   "execution_count": null,
   "metadata": {},
   "outputs": [],
   "source": [
    "8. what is pep 8? py coding std.\n",
    "----PEP 8, sometimes spelled PEP8 or PEP-8, \n",
    "----It is a document that provides guidelines and best practices on how to write Python code.\n",
    "----It was written in 2001 by Guido van Rossum, Barry Warsaw, and Nick Coghlan. \n",
    "----The primary focus of PEP 8 is to improve the readability and consistency of Python code."
   ]
  },
  {
   "cell_type": "code",
   "execution_count": null,
   "metadata": {},
   "outputs": [],
   "source": [
    "9. What Is The Statement That Can Be Used In Python If The Program Requires No Action But Requires It Syntactically? Pass\n",
    "----The pass statement in Python is used when a statement is required syntactically but you do not want any command or code to execute.\n",
    "----The pass statement is a null operation; nothing happens when it executes."
   ]
  },
  {
   "cell_type": "code",
   "execution_count": null,
   "metadata": {},
   "outputs": [],
   "source": [
    "10. What are the buil-in types ?\n",
    "Immutable built-in datatypes of Python\n",
    "\tNumbers\n",
    "\tStrings\n",
    "\tTuples\n",
    "Mutable built-in datatypes of Python\n",
    "\tList\n",
    "\tDictionaries\n",
    "\tSets"
   ]
  },
  {
   "cell_type": "code",
   "execution_count": null,
   "metadata": {},
   "outputs": [],
   "source": [
    "11.  How To Find Bugs Or Perform Static Analysis In A Python Application?\n",
    "\t- Pychacker and Pylint."
   ]
  },
  {
   "cell_type": "code",
   "execution_count": null,
   "metadata": {},
   "outputs": [],
   "source": [
    "12. How Does Python Handle Memory Management?\n",
    "----Memory management in Python involves a private heap containing all Python objects and data structures\n",
    "----The management of this private heap is ensured internally by the Python memory manager.\n",
    "----The Python memory manager has different components which deal with various dynamic storage management aspects, like sharing, segmentation, preallocation or caching.\n"
   ]
  },
  {
   "cell_type": "code",
   "execution_count": null,
   "metadata": {},
   "outputs": [],
   "source": [
    "13. Difference between lambda and def ?\n",
    "\tlambda: just like pre-processor in C and C++, it is uni-expression, it can't have return statement, "
   ]
  },
  {
   "cell_type": "code",
   "execution_count": null,
   "metadata": {},
   "outputs": [],
   "source": [
    "14. regex for e-mail id ?\n",
    "\t- print(re.search(r\"[0-9a-zA-Z.]+@[a-zA-Z]+\\.(com|co\\.in)$\",\"micheal.pages@mp.com\"))"
   ]
  },
  {
   "cell_type": "code",
   "execution_count": null,
   "metadata": {},
   "outputs": [],
   "source": [
    "15. is there a switch statement ?\n",
    "----No, we can write switch functions."
   ]
  },
  {
   "cell_type": "code",
   "execution_count": null,
   "metadata": {},
   "outputs": [],
   "source": [
    "16. range ?\n",
    "---range(start,stop, step )\n"
   ]
  },
  {
   "cell_type": "code",
   "execution_count": null,
   "metadata": {},
   "outputs": [],
   "source": [
    "17. Exception ?\n",
    "try: exception: else: finally:\n"
   ]
  },
  {
   "cell_type": "code",
   "execution_count": null,
   "metadata": {},
   "outputs": [],
   "source": [
    "18. Is A String Immutable Or Mutable In Python?\n",
    "----String is immutable in python.\n",
    "----A string object will always represent the same value, it can't be modified.\n",
    "----There is no way, I can do this in python because strings are immutable in Python"
   ]
  },
  {
   "cell_type": "code",
   "execution_count": null,
   "metadata": {},
   "outputs": [],
   "source": [
    "19. What Is Docstring In Python?\n",
    "-----Python documentation strings (or docstrings) provide a convenient way of associating documentation with Python modules, functions, classes, and methods.\n",
    "-----docstring is simply a multi-line string, that is not assigned to anything. \n",
    "-----It is specified in source code that is used to document a specific segment of code."
   ]
  },
  {
   "cell_type": "code",
   "execution_count": null,
   "metadata": {},
   "outputs": [],
   "source": [
    "20. How Many Basic Types Of  Are Available In FunctionsPython? buil-in and user defined.\n",
    "----built-in and user defined are Available In FunctionsPython"
   ]
  },
  {
   "cell_type": "code",
   "execution_count": null,
   "metadata": {},
   "outputs": [],
   "source": [
    "21. call by value and call by reference ? \n",
    "----Call by value method copies the value of an argument into the formal parameter of that function. \n",
    "----Call by reference method copies the address of an argument into the formal parameter. \n",
    "----In call by value method, a copy of the variable is passed whereas, In call by reference method, a variable itself is passed"
   ]
  },
  {
   "cell_type": "code",
   "execution_count": null,
   "metadata": {},
   "outputs": [],
   "source": [
    "22. Is It Mandatory For A Python Function To Return A Value? \n",
    "----No"
   ]
  },
  {
   "cell_type": "code",
   "execution_count": null,
   "metadata": {},
   "outputs": [],
   "source": [
    "23. What Is The Purpose Of Id() Function In Python?\n",
    "----Identity of the object or addre"
   ]
  },
  {
   "cell_type": "code",
   "execution_count": null,
   "metadata": {},
   "outputs": [],
   "source": [
    "24.Does Python Have A Main() Method? \n",
    "----Python is interpreted-based and executes line of the code one-by-one.\n",
    "\tYes, using if __name__ == '__main__'"
   ]
  },
  {
   "cell_type": "code",
   "execution_count": null,
   "metadata": {},
   "outputs": [],
   "source": [
    "25. What Is The Purpose Of “End” In Python?\n",
    "----The print() function inserts a new line at the end, by default. \n",
    "----In Python 2, it can be suppressed by putting ',' at the end.\n",
    "----In Python 3, \"end =' '\" appends space instead of newline."
   ]
  },
  {
   "cell_type": "code",
   "execution_count": null,
   "metadata": {},
   "outputs": [],
   "source": [
    "26. When Should You Use The “Break”, continue, pass In Python?\n",
    "----continue forces the loop to start at the next iteration .\n",
    "----pass means \"there is no code to execute here\" and will continue through the remainder or the loop body. \n",
    "----continue will jump back to the top of the loop. pass will continue processing.\n",
    "----The break statement terminates the loop containing it. \n",
    "-----Control of the program flows to the statement immediately after the body of the loop.\n",
    "----If break statement is inside a nested loop (loop inside another loop), break will terminate the innermost loop"
   ]
  },
  {
   "cell_type": "code",
   "execution_count": null,
   "metadata": {},
   "outputs": [],
   "source": [
    "27. Which Package Is The Fastest Form Of Python? \n",
    "---PyPy"
   ]
  },
  {
   "cell_type": "code",
   "execution_count": null,
   "metadata": {},
   "outputs": [],
   "source": [
    "28. What Is GIL In Python Language? \n",
    "---Python supports GIL (the global interpreter lock) which is a mutex used to \n",
    "   secure access to Python objects, synchronizing multiple threads from running the Python bytecodes at the same time."
   ]
  },
  {
   "cell_type": "code",
   "execution_count": null,
   "metadata": {},
   "outputs": [],
   "source": [
    "29. What Is A Dictionary In Python Programming? \n",
    "---use zip_longest"
   ]
  },
  {
   "cell_type": "code",
   "execution_count": null,
   "metadata": {},
   "outputs": [],
   "source": [
    "30. Is Python List A Linked List? \n",
    "---No,  it has a contiguous array for referencing to other objects and stores a pointer \n",
    "    to the array variable and its length in the list head structure."
   ]
  },
  {
   "cell_type": "code",
   "execution_count": null,
   "metadata": {},
   "outputs": [],
   "source": [
    "31. How Do You Handle Exceptions With Try/Except/Finally In Python?\n",
    "try--If the python program contains suspicious code that may throw the exception, we must place that code in the try block. \n",
    "-----The try block must be followed with the except statement which contains a block of code that will be executed if there is some exception in the try block.\n",
    "Except--We can also use the else statement with the try-except statement in which, we can place the code which will be executed in the scenario if no exception occurs in the try block.\n",
    "Finally---We can use the finally block with the try block in which, we can pace the important code which must be executed before the try statement throws an exception."
   ]
  },
  {
   "cell_type": "code",
   "execution_count": null,
   "metadata": {},
   "outputs": [],
   "source": [
    "32. What Are Decorators In Python? \n",
    "----Python decorator gives us the ability to add new behavior to the given objects dynamically."
   ]
  },
  {
   "cell_type": "code",
   "execution_count": null,
   "metadata": {},
   "outputs": [],
   "source": [
    "33. What Are Closures In Python?\n",
    "----Python closures are function objects returned by another function."
   ]
  },
  {
   "cell_type": "code",
   "execution_count": null,
   "metadata": {},
   "outputs": [],
   "source": [
    "34. What Is The Use Of Globals() Function In Python?\n",
    "\tThe globals() function in Python returns the current global symbol table as a dictionary object."
   ]
  },
  {
   "cell_type": "code",
   "execution_count": null,
   "metadata": {},
   "outputs": [],
   "source": [
    "35. Why Do You Use The Zip() Method In Python?\n",
    "----The zip() function in Python returns the zip object, which is the iterator of tuples where a first item\n",
    "    in each passed iterator is paired together,  and then a second item in each passed iterator are paired together"
   ]
  },
  {
   "cell_type": "code",
   "execution_count": null,
   "metadata": {},
   "outputs": [],
   "source": [
    "36. What Does The “Self” Keyword Do?\n",
    "----self represents the instance of the class.\n",
    "----By using the “self” keyword we can access the attributes and methods of the class in python. \n",
    "----It binds the attributes with the given arguments. self is parameter in function and user can use another parameter name in place of it."
   ]
  },
  {
   "cell_type": "code",
   "execution_count": null,
   "metadata": {},
   "outputs": [],
   "source": [
    "37. What Are The Different Methods To Copy An Object In Python?\n",
    "\t- Deep copy: a copy of \tobject is copied to other object. means any changes made in one object doesn't effect to other.\n",
    "\t l2  = copy.deepcopy(l2)\n",
    "\t \n",
    "\t- Shallow copy: A ref of obj is copied to another object. If changes in one object affects to other.\n",
    "\t- l1 = copy.copy(l2 )"
   ]
  },
  {
   "cell_type": "code",
   "execution_count": null,
   "metadata": {},
   "outputs": [],
   "source": [
    "38. How Do You Debug A Program In Python? Is It Possible To Step Through The Python Code?\n",
    "----you can run the application from the debugger and set breakpoints without any changes in the source code. \n",
    "----To execute the application with the debugger, use the command python -m pdb <python script> ."
   ]
  },
  {
   "cell_type": "code",
   "execution_count": null,
   "metadata": {},
   "outputs": [],
   "source": [
    "39. Why And When Do You Use Generators In Python?\n",
    "---Generator comes into rescue in such situations. Python generators are a simple way of creating iterators. \n",
    "---All the overhead we mentioned above are automatically handled by generators in Python. \n",
    "---A generator is a function that returns an object (iterator) which we can iterate over (one value at a time)."
   ]
  },
  {
   "cell_type": "code",
   "execution_count": null,
   "metadata": {},
   "outputs": [],
   "source": [
    "40.  What is pickling and unpickling? \n",
    "---Pickling - is the process whereby a Python object hierarchy is converted into a byte stream.\n",
    "---Unpickling - is the inverse operation, whereby a byte stream is converted back into an object hierarchy. \n",
    "---Pickling (and unpickling) is alternatively known as serialization, marshalling, or flattening"
   ]
  },
  {
   "cell_type": "code",
   "execution_count": null,
   "metadata": {},
   "outputs": [],
   "source": [
    "41. What is namespace in Python?\n",
    "---A namespace is a system to have a unique name for each and every object in Python. \n",
    "---An object might be a variable or a method. Python itself maintains a namespace in the form of a Python dictionary. \n",
    "---Let's go through an example, a directory-file system structure in computers."
   ]
  },
  {
   "cell_type": "code",
   "execution_count": null,
   "metadata": {},
   "outputs": [],
   "source": [
    "42. In Python what are iterators?\n",
    "---Iterators are everywhere in Python.\n",
    "---They are elegantly implemented within for loops, comprehensions, generators etc. but hidden in plain sight. \n",
    "---Iterator in Python is simply an object that can be iterated upon. \n",
    "---An object which will return data, one element at a time."
   ]
  },
  {
   "cell_type": "code",
   "execution_count": null,
   "metadata": {},
   "outputs": [],
   "source": [
    "43. What is module and package in Python? \n",
    "\t- Module - file\n",
    "\t- package - directory."
   ]
  },
  {
   "cell_type": "code",
   "execution_count": null,
   "metadata": {},
   "outputs": [],
   "source": [
    "43. What is module and package in Python? \n",
    "\t- Module - file\n",
    "\t- package - directory."
   ]
  },
  {
   "cell_type": "code",
   "execution_count": null,
   "metadata": {},
   "outputs": [],
   "source": [
    "45. Explain how to delete a file in Python?\n",
    "----os.remove (filename)"
   ]
  },
  {
   "cell_type": "code",
   "execution_count": null,
   "metadata": {},
   "outputs": [],
   "source": [
    "46. What mode is used for both writing and reading in binary format in file.? \n",
    "--wb+"
   ]
  },
  {
   "cell_type": "markdown",
   "metadata": {},
   "source": [
    "Programming questions:"
   ]
  },
  {
   "cell_type": "code",
   "execution_count": 1,
   "metadata": {},
   "outputs": [
    {
     "name": "stdout",
     "output_type": "stream",
     "text": [
      "11 is a prime number\n"
     ]
    }
   ],
   "source": [
    "##1. Prime numbers.\n",
    "\n",
    "num = 11\n",
    "  \n",
    "if num > 1: \n",
    "   for i in range(2, num//2): \n",
    "       if (num % i) == 0: \n",
    "           print(num, \"is not a prime number\") \n",
    "           break\n",
    "   else: \n",
    "       print(num, \"is a prime number\") \n",
    "else: \n",
    "   print(num, \"is not a prime number\") "
   ]
  },
  {
   "cell_type": "code",
   "execution_count": 2,
   "metadata": {},
   "outputs": [
    {
     "name": "stdout",
     "output_type": "stream",
     "text": [
      "3.0\n"
     ]
    }
   ],
   "source": [
    "##2. find the missing numbers in the order ?\n",
    "\n",
    "def getMissingNo(A): \n",
    "    n = len(A) \n",
    "    total = (n + 1)*(n + 2)/2\n",
    "    sum_of_A = sum(A) \n",
    "    return total - sum_of_A \n",
    "A = [1, 2, 4, 5, 6] \n",
    "miss = getMissingNo(A) \n",
    "print(miss)"
   ]
  },
  {
   "cell_type": "code",
   "execution_count": 4,
   "metadata": {},
   "outputs": [
    {
     "name": "stdout",
     "output_type": "stream",
     "text": [
      "[20, 30, -20, 60]\n"
     ]
    }
   ],
   "source": [
    "##3. find the duplicat elements.\n",
    "\n",
    "def Repeat(x): \n",
    "    _size = len(x) \n",
    "    repeated = [] \n",
    "    for i in range(_size): \n",
    "        k = i + 1\n",
    "        for j in range(k, _size): \n",
    "            if x[i] == x[j] and x[i] not in repeated: \n",
    "                repeated.append(x[i]) \n",
    "    return repeated \n",
    "list1 = [10, 20, 30, 20, 20, 30, 40,  \n",
    "         50, -20, 60, 60, -20, -20] \n",
    "print (Repeat(list1)) "
   ]
  },
  {
   "cell_type": "code",
   "execution_count": null,
   "metadata": {},
   "outputs": [],
   "source": []
  }
 ],
 "metadata": {
  "kernelspec": {
   "display_name": "Python 3",
   "language": "python",
   "name": "python3"
  },
  "language_info": {
   "codemirror_mode": {
    "name": "ipython",
    "version": 3
   },
   "file_extension": ".py",
   "mimetype": "text/x-python",
   "name": "python",
   "nbconvert_exporter": "python",
   "pygments_lexer": "ipython3",
   "version": "3.7.4"
  }
 },
 "nbformat": 4,
 "nbformat_minor": 2
}
