{
 "cells": [
  {
   "cell_type": "code",
   "execution_count": 1,
   "metadata": {},
   "outputs": [
    {
     "data": {
      "text/plain": [
       "['asdf', 'fjdk', 'afed', 'fjek', 'asdf', 'foo']"
      ]
     },
     "execution_count": 1,
     "metadata": {},
     "output_type": "execute_result"
    }
   ],
   "source": [
    "##1. You need to split a string into fields, but the delimiters (and spacing around them) aren’t consistent throughout the string.\n",
    "\n",
    "##input: \n",
    "##line = 'asdf fjdk; afed, fjek,asdf,      foo'\n",
    "\n",
    "##Output:\n",
    "##line = 'asdf fjdk; afed, fjek,asdf,      foo'\n",
    "\n",
    "line = 'asdf fjdk; afed, fjek,asdf,      foo'\n",
    "import re\n",
    "re.split(r'[;,\\s]\\s*', line)\n",
    "['asdf', 'fjdk', 'afed', 'fjek', 'asdf', 'foo']\n"
   ]
  },
  {
   "cell_type": "code",
   "execution_count": 2,
   "metadata": {},
   "outputs": [
    {
     "name": "stdout",
     "output_type": "stream",
     "text": [
      "true\n"
     ]
    }
   ],
   "source": [
    "##2. You need to check the start or end of a string for specific text patterns, such as filename extensions, URL schemes, and so on.\n",
    "\n",
    "##input:\n",
    "##url = 'http://www.python.org'\n",
    "\n",
    "##Output: True or False\n",
    "str = 'http://www.python.org'\n",
    "\n",
    "if str.startswith(\"http://\")and str.endswith(\"org\"):\n",
    "\n",
    "        print(\"true\")\n",
    "else:\n",
    "        print(\"false\")\n",
    "\n"
   ]
  },
  {
   "cell_type": "code",
   "execution_count": 3,
   "metadata": {
    "collapsed": true
   },
   "outputs": [
    {
     "ename": "SyntaxError",
     "evalue": "invalid syntax (<ipython-input-3-da0d143598a1>, line 1)",
     "output_type": "error",
     "traceback": [
      "\u001b[1;36m  File \u001b[1;32m\"<ipython-input-3-da0d143598a1>\"\u001b[1;36m, line \u001b[1;32m1\u001b[0m\n\u001b[1;33m    3. You want to match text using the same wildcard patterns as are commonly used when working in Unix shells (e.g., *.py, Dat[0-9], .csv, etc.)\u001b[0m\n\u001b[1;37m         ^\u001b[0m\n\u001b[1;31mSyntaxError\u001b[0m\u001b[1;31m:\u001b[0m invalid syntax\n"
     ]
    }
   ],
   "source": [
    "3. You want to match text using the same wildcard patterns as are commonly used when working in Unix shells (e.g., *.py, Dat[0-9], .csv, etc.)\n"
   ]
  },
  {
   "cell_type": "code",
   "execution_count": 5,
   "metadata": {},
   "outputs": [
    {
     "ename": "SyntaxError",
     "evalue": "invalid syntax (<ipython-input-5-5433c5f0f0ec>, line 1)",
     "output_type": "error",
     "traceback": [
      "\u001b[1;36m  File \u001b[1;32m\"<ipython-input-5-5433c5f0f0ec>\"\u001b[1;36m, line \u001b[1;32m1\u001b[0m\n\u001b[1;33m    4. You want to match or search text for a specific pattern.\u001b[0m\n\u001b[1;37m         ^\u001b[0m\n\u001b[1;31mSyntaxError\u001b[0m\u001b[1;31m:\u001b[0m invalid syntax\n"
     ]
    }
   ],
   "source": [
    "4. You want to match or search text for a specific pattern.\n",
    "\n",
    "input: text = 'yeah, but no, but yeah, but no, but yeah'\n",
    "\n"
   ]
  },
  {
   "cell_type": "code",
   "execution_count": 3,
   "metadata": {},
   "outputs": [
    {
     "name": "stdout",
     "output_type": "stream",
     "text": [
      "The original list : ['4', 'kg', 'butter', 'for', '40', 'bucks']\n",
      "The list after substring replacement : ['1', 'kg', 'butter', 'for', '10', 'bucks']\n"
     ]
    }
   ],
   "source": [
    "##You want to search for and replace a text pattern in a string.\n",
    "\n",
    "# initializing list  \n",
    "test_list = ['4', 'kg', 'butter', 'for', '40', 'bucks'] \n",
    "  \n",
    "# printing original list   \n",
    "print(\"The original list : \" + str(test_list )) \n",
    "  \n",
    "# using list comprehension + replace() \n",
    "# Replace substring in list of strings \n",
    "res = [sub.replace('4', '1') for sub in test_list] \n",
    "      \n",
    "# print result \n",
    "print(\"The list after substring replacement : \" + str(res)) \n"
   ]
  },
  {
   "cell_type": "code",
   "execution_count": 6,
   "metadata": {},
   "outputs": [
    {
     "name": "stdout",
     "output_type": "stream",
     "text": [
      "Case-sensitive sorted list ['Alind', 'GeeksForGeeks', 'Munich', 'SIngh', 'akshat', 'garg', 'manjeet']\n",
      "Case-insensitive sorted list ['akshat', 'Alind', 'garg', 'GeeksForGeeks', 'manjeet', 'Munich', 'SIngh']\n"
     ]
    }
   ],
   "source": [
    "##You need to search for and possibly replace text in a case-insensitive manner.\n",
    "\n",
    "##input: text = 'UPPER PYTHON, lower python, Mixed Python'\n",
    "\n",
    "##search python\n",
    "\n",
    "# Initialsing list \n",
    "ini_list = ['akshat', 'garg', 'GeeksForGeeks', 'Alind', \n",
    "            'SIngh', 'manjeet', 'Munich'] \n",
    "  \n",
    "# Sorting list in case sensitive manner \n",
    "res1 = sorted(ini_list) \n",
    "   \n",
    "# Printing case-insensitive \n",
    "print(\"Case-sensitive sorted list\", str(res1)) \n",
    "  \n",
    "# Sorting list in case-insensitive manner \n",
    "res2 = sorted(ini_list, key = lambda s: s.casefold()) \n",
    "  \n",
    "# Printing result \n",
    "print(\"Case-insensitive sorted list\", str(res2)) "
   ]
  },
  {
   "cell_type": "code",
   "execution_count": 1,
   "metadata": {
    "collapsed": true
   },
   "outputs": [
    {
     "ename": "NameError",
     "evalue": "name 'Y' is not defined",
     "output_type": "error",
     "traceback": [
      "\u001b[1;31m---------------------------------------------------------------------------\u001b[0m",
      "\u001b[1;31mNameError\u001b[0m                                 Traceback (most recent call last)",
      "\u001b[1;32m<ipython-input-1-900ba6229560>\u001b[0m in \u001b[0;36m<module>\u001b[1;34m\u001b[0m\n\u001b[0;32m      6\u001b[0m \u001b[1;31m##hint:\u001b[0m\u001b[1;33m\u001b[0m\u001b[1;33m\u001b[0m\u001b[1;33m\u001b[0m\u001b[0m\n\u001b[0;32m      7\u001b[0m \u001b[1;31m##s1 == s2\u001b[0m\u001b[1;33m\u001b[0m\u001b[1;33m\u001b[0m\u001b[1;33m\u001b[0m\u001b[0m\n\u001b[1;32m----> 8\u001b[1;33m \u001b[0mY\u001b[0m\u001b[1;33m\u001b[0m\u001b[1;33m\u001b[0m\u001b[0m\n\u001b[0m\u001b[0;32m      9\u001b[0m \u001b[1;31m##len(s1)\u001b[0m\u001b[1;33m\u001b[0m\u001b[1;33m\u001b[0m\u001b[1;33m\u001b[0m\u001b[0m\n\u001b[0;32m     10\u001b[0m \u001b[1;33m\u001b[0m\u001b[0m\n",
      "\u001b[1;31mNameError\u001b[0m: name 'Y' is not defined"
     ]
    }
   ],
   "source": [
    "##you’re working with Unicode strings, but need to make sure that all of the strings have the same underlying representation.\n",
    "\n",
    "##s1 = 'Spicy Jalape\\u00f1o'\n",
    "##s2 = 'Spicy Jalapen\\u0303o'\n",
    "\n",
    "##hint:\n",
    "##s1 == s2\n",
    "Y\n",
    "##len(s1)\n",
    "\n",
    "##len(s2)"
   ]
  },
  {
   "cell_type": "code",
   "execution_count": 2,
   "metadata": {},
   "outputs": [
    {
     "name": "stdout",
     "output_type": "stream",
     "text": [
      "HelloWorld\n"
     ]
    }
   ],
   "source": [
    "##You want to strip unwanted characters, such as whitespace, from the beginning, end, or middle of a text string.\n",
    "\n",
    "##input:\n",
    "##s = '   hello world  \\n'\n",
    "\n",
    "def removeSpaces(string): \n",
    "    string = string.replace(' ','') \n",
    "    return string \n",
    "      \n",
    "# Driver program \n",
    "string = \"H  ello Wo rld  \"\n",
    "print(removeSpaces(string)) \n",
    "\n"
   ]
  },
  {
   "cell_type": "code",
   "execution_count": 3,
   "metadata": {},
   "outputs": [
    {
     "name": "stdout",
     "output_type": "stream",
     "text": [
      "GeeksforGeeks, A computer science book.\n",
      "This article is written in Python\n",
      "Hello, I am 18 years old !\n"
     ]
    }
   ],
   "source": [
    "##You need to format text with some sort of alignment applied\n",
    "\n",
    "##input: \"hello\"\n",
    "\n",
    "##output: \"    hello    \"\n",
    "\n",
    "print (\"{}, A computer science book.\"\n",
    "                        .format(\"GeeksforGeeks\")) \n",
    "  \n",
    "# using format option for a \n",
    "# value stored in a variable \n",
    "str = \"This article is written in {}\"\n",
    "print (str.format(\"Python\")) \n",
    "  \n",
    "# formatting a string using a numeric constant \n",
    "print (\"Hello, I am {} years old !\".format(18))  \n"
   ]
  },
  {
   "cell_type": "code",
   "execution_count": 13,
   "metadata": {},
   "outputs": [
    {
     "ename": "SyntaxError",
     "evalue": "invalid syntax (<ipython-input-13-53096b41e51d>, line 9)",
     "output_type": "error",
     "traceback": [
      "\u001b[1;36m  File \u001b[1;32m\"<ipython-input-13-53096b41e51d>\"\u001b[1;36m, line \u001b[1;32m9\u001b[0m\n\u001b[1;33m    >>> s = \"this is my string\"\u001b[0m\n\u001b[1;37m     ^\u001b[0m\n\u001b[1;31mSyntaxError\u001b[0m\u001b[1;31m:\u001b[0m invalid syntax\n"
     ]
    }
   ],
   "source": [
    "##You want to combine many small strings together into a larger string.\n",
    "\n",
    "##input:\n",
    "\n",
    "##parts = ['Is', 'Chicago', 'Not', 'Chicago?']\n",
    "\n",
    "##output: Is Chicago not chicago\n",
    "\n",
    ">>> s = \"this is my string\"\n",
    ">>> s.split(maxsplit=1)\n",
    "['this', 'is', 'my', 'string']"
   ]
  },
  {
   "cell_type": "markdown",
   "metadata": {},
   "source": [
    "Numbers and dates and times:\n"
   ]
  },
  {
   "cell_type": "code",
   "execution_count": 14,
   "metadata": {},
   "outputs": [
    {
     "name": "stdout",
     "output_type": "stream",
     "text": [
      "15\n",
      "52\n",
      "52\n",
      "51\n"
     ]
    }
   ],
   "source": [
    "## You want to round a floating-point number to a fixed number of decimal places;\n",
    "\n",
    "# for integers \n",
    "print(round(15)) \n",
    "  \n",
    "# for floating point \n",
    "print(round(51.6))  \n",
    "  \n",
    "  \n",
    "print(round(51.5))   \n",
    "  \n",
    "print(round(51.4))  "
   ]
  },
  {
   "cell_type": "code",
   "execution_count": null,
   "metadata": {},
   "outputs": [],
   "source": []
  }
 ],
 "metadata": {
  "kernelspec": {
   "display_name": "Python 3",
   "language": "python",
   "name": "python3"
  },
  "language_info": {
   "codemirror_mode": {
    "name": "ipython",
    "version": 3
   },
   "file_extension": ".py",
   "mimetype": "text/x-python",
   "name": "python",
   "nbconvert_exporter": "python",
   "pygments_lexer": "ipython3",
   "version": "3.7.4"
  }
 },
 "nbformat": 4,
 "nbformat_minor": 2
}
